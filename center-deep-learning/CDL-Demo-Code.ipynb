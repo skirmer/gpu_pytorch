{
 "cells": [
  {
   "cell_type": "code",
   "execution_count": 1,
   "metadata": {},
   "outputs": [],
   "source": [
    "# Specific libraries for distributed training\n",
    "\n",
    "import multiprocessing as mp\n",
    "from concurrent.futures import ThreadPoolExecutor\n",
    "from torch.nn.parallel import DistributedDataParallel as DDP\n",
    "from dask_pytorch_ddp import data, dispatch\n",
    "import torch.distributed as dist\n",
    "from dask.distributed import Client, progress"
   ]
  },
  {
   "cell_type": "code",
   "execution_count": 2,
   "metadata": {},
   "outputs": [],
   "source": [
    "## Import helper functions and some additional libraries\n",
    "%run -i fns.py"
   ]
  },
  {
   "cell_type": "code",
   "execution_count": 3,
   "metadata": {},
   "outputs": [],
   "source": [
    "### Setup ###\n",
    "device = torch.device(\"cuda\" if torch.cuda.is_available() else \"cpu\")"
   ]
  },
  {
   "cell_type": "code",
   "execution_count": 4,
   "metadata": {},
   "outputs": [],
   "source": [
    "### ============== Constants ============== ###\n",
    "model_params = {'n_epochs': 6, \n",
    "    'batch_size': 100,\n",
    "    'base_lr': .01,\n",
    "    'train_pct': .7,\n",
    "    'downsample_to':1,\n",
    "    'subset': True, # Whether to break data into N pieces for training\n",
    "    'worker_ct': 6, # N of pieces to break into\n",
    "    'bucket': \"saturn-public-data\",\n",
    "    'prefix': \"dogs/Images\",\n",
    "    'pretrained_classes':imagenetclasses} \n",
    "\n",
    "wbargs = {**model_params,\n",
    "    'classes':120,\n",
    "    'dataset':\"StanfordDogs\",\n",
    "    'architecture':\"ResNet\"}\n",
    "\n",
    "project_id = 'a2ae799b6f234f09bd0341aa9769971f'\n",
    "num_workers = 40 # For lazy dataloader multiprocessing"
   ]
  },
  {
   "cell_type": "code",
   "execution_count": 5,
   "metadata": {},
   "outputs": [],
   "source": [
    "def cluster_transfer_learn(bucket, prefix, train_pct, batch_size, downsample_to,\n",
    "                          n_epochs, base_lr, pretrained_classes, subset, worker_ct):\n",
    "\n",
    "    worker_rank = int(dist.get_rank())\n",
    "    \n",
    "    # --------- Format model and params --------- #\n",
    "    device = torch.device(\"cuda\")\n",
    "    net = models.resnet50(pretrained=False) # True means we start with the imagenet version\n",
    "    model = net.to(device)\n",
    "    model = DDP(model)\n",
    "    \n",
    "    # Set up monitoring\n",
    "    if worker_rank == 0:\n",
    "        wandb.init(config=wbargs, reinit=True, project = 'cdl-demo')\n",
    "        wandb.watch(model)\n",
    "    \n",
    "    criterion = nn.CrossEntropyLoss().cuda()    \n",
    "    optimizer = optim.SGD(model.parameters(), lr=base_lr, momentum=0.9)\n",
    "    \n",
    "    # --------- Retrieve data for training and eval --------- #\n",
    "    # Creates lazy-loading, multiprocessing DataLoader objects\n",
    "    # for training and evaluation\n",
    "    \n",
    "    whole_dataset = preprocess(bucket, prefix, pretrained_classes)\n",
    "    \n",
    "    train, val = train_test_split(\n",
    "        train_pct,\n",
    "        whole_dataset, \n",
    "        batch_size=batch_size,\n",
    "        downsample_to=downsample_to,\n",
    "        subset = subset, \n",
    "        workers = worker_ct\n",
    "    )\n",
    "    \n",
    "    dataloaders = {'train' : train, 'val': val}\n",
    "\n",
    "    # --------- Start iterations --------- #\n",
    "    for epoch in range(n_epochs):\n",
    "        count = 0\n",
    "        t_count = 0\n",
    "        \n",
    "    # --------- Training section --------- #    \n",
    "        model.train()  # Set model to training mode\n",
    "        for inputs, labels in dataloaders[\"train\"]:\n",
    "            dt = datetime.datetime.now().isoformat()\n",
    "\n",
    "            inputs, labels = inputs.to(device), labels.to(device)\n",
    "            outputs = model(inputs)\n",
    "            _, preds = torch.max(outputs, 1)\n",
    "            perct = [torch.nn.functional.softmax(el, dim=0)[i].item() for i, el in zip(preds, outputs)]\n",
    "\n",
    "            loss = criterion(outputs, labels)\n",
    "            correct = (preds == labels).sum().item()\n",
    "            \n",
    "            # zero the parameter gradients\n",
    "            optimizer.zero_grad()\n",
    "            loss.backward()\n",
    "            optimizer.step()\n",
    "            count += 1\n",
    "                \n",
    "            # Record the results of this model iteration (training sample) for later review.\n",
    "            if worker_rank == 0:\n",
    "                wandb.log({\n",
    "                        'loss': loss.item(),\n",
    "                        'learning_rate':base_lr, \n",
    "                        'correct':correct, \n",
    "                        'epoch': epoch, \n",
    "                        'count': count,\n",
    "                        'worker': worker_rank\n",
    "                    })\n",
    "            if worker_rank == 0 and count % 5 == 0:\n",
    "                wandb.log({f'predictions vs. actuals, training, epoch {epoch}, count {count}': plot_model_performance(\n",
    "                    model, inputs, labels, preds, perct, pretrained_classes)})\n",
    "                \n",
    "    # --------- Evaluation section --------- #   \n",
    "        with torch.no_grad():\n",
    "            model.eval()  # Set model to evaluation mode\n",
    "            for inputs_t, labels_t in dataloaders[\"val\"]:\n",
    "                dt = datetime.datetime.now().isoformat()\n",
    "\n",
    "                inputs_t, labels_t = inputs_t.to(device), labels_t.to(device)\n",
    "                outputs_t = model(inputs_t)\n",
    "                _, pred_t = torch.max(outputs_t, 1)\n",
    "                perct_t = [torch.nn.functional.softmax(el, dim=0)[i].item() for i, el in zip(pred_t, outputs_t)]\n",
    "\n",
    "                loss_t = criterion(outputs_t, labels_t)\n",
    "                correct_t = (pred_t == labels_t).sum().item()\n",
    "            \n",
    "                t_count += 1\n",
    "\n",
    "                # Record the results of this model iteration (evaluation sample) for later review.\n",
    "                if worker_rank == 0:\n",
    "                    wandb.log({\n",
    "                        'val_loss': loss_t.item(),\n",
    "                        'val_correct':correct_t, \n",
    "                        'epoch': epoch, \n",
    "                        'count': t_count,\n",
    "                        'worker': worker_rank\n",
    "                    })\n",
    "                if worker_rank == 0 and count % 5 == 0:\n",
    "                    wandb.log({f'predictions vs. actuals, eval, epoch {epoch}, count {t_count}': plot_model_performance(\n",
    "                        model, inputs_t, labels_t, pred_t, perct_t, pretrained_classes)})\n"
   ]
  },
  {
   "cell_type": "markdown",
   "metadata": {},
   "source": [
    "## Train Model"
   ]
  },
  {
   "cell_type": "code",
   "execution_count": 6,
   "metadata": {},
   "outputs": [
    {
     "name": "stderr",
     "output_type": "stream",
     "text": [
      "\u001b[34m\u001b[1mwandb\u001b[0m: Currently logged in as: \u001b[33mskirmer\u001b[0m (use `wandb login --relogin` to force relogin)\n"
     ]
    },
    {
     "data": {
      "text/plain": [
       "True"
      ]
     },
     "execution_count": 6,
     "metadata": {},
     "output_type": "execute_result"
    }
   ],
   "source": [
    "wandb.login()"
   ]
  },
  {
   "cell_type": "code",
   "execution_count": 7,
   "metadata": {},
   "outputs": [
    {
     "data": {
      "text/plain": [
       "<dask_saturn.external.ExternalConnection at 0x7faec9255590>"
      ]
     },
     "execution_count": 7,
     "metadata": {},
     "output_type": "execute_result"
    }
   ],
   "source": [
    "### Saturn Connection Setup ###\n",
    "with open('config.json') as f:\n",
    "    tokens = json.load(f)\n",
    "\n",
    "conn = ExternalConnection(\n",
    "    project_id=project_id,\n",
    "    base_url='https://app.internal.saturnenterprise.io',\n",
    "    saturn_token=tokens['api_token']\n",
    ")\n",
    "conn"
   ]
  },
  {
   "cell_type": "code",
   "execution_count": 8,
   "metadata": {},
   "outputs": [
    {
     "name": "stderr",
     "output_type": "stream",
     "text": [
      "INFO:dask-saturn:Cluster is ready\n",
      "INFO:dask-saturn:Registering default plugins\n",
      "/Users/skirmer/.local/lib/python3.7/site-packages/distributed/client.py:1129: VersionMismatchWarning: Mismatched versions found\n",
      "\n",
      "+---------+----------------+---------------+---------------+\n",
      "| Package | client         | scheduler     | workers       |\n",
      "+---------+----------------+---------------+---------------+\n",
      "| numpy   | 1.20.1         | 1.19.2        | 1.19.2        |\n",
      "| python  | 3.7.10.final.0 | 3.7.9.final.0 | 3.7.9.final.0 |\n",
      "+---------+----------------+---------------+---------------+\n",
      "  warnings.warn(version_module.VersionMismatchWarning(msg[0][\"warning\"]))\n",
      "INFO:dask-saturn:{'tcp://192.168.101.67:38687': {'status': 'repeat'}, 'tcp://192.168.114.67:39289': {'status': 'repeat'}, 'tcp://192.168.150.67:34119': {'status': 'repeat'}, 'tcp://192.168.235.67:34471': {'status': 'repeat'}, 'tcp://192.168.77.67:45753': {'status': 'repeat'}, 'tcp://192.168.88.131:33625': {'status': 'repeat'}}\n"
     ]
    },
    {
     "data": {
      "text/html": [
       "<table style=\"border: 2px solid white;\">\n",
       "<tr>\n",
       "<td style=\"vertical-align: top; border: 0px solid white\">\n",
       "<h3 style=\"text-align: left;\">Client</h3>\n",
       "<ul style=\"text-align: left; list-style: none; margin: 0; padding: 0;\">\n",
       "  <li><b>Scheduler: </b>tls://d-steph-cdl-demo-fa90a721acb8498caea5f7a29a297b25.internal.saturnenterprise.io:8786</li>\n",
       "  <li><b>Dashboard: </b><a href='https://d-steph-cdl-demo-fa90a721acb8498caea5f7a29a297b25.internal.saturnenterprise.io' target='_blank'>https://d-steph-cdl-demo-fa90a721acb8498caea5f7a29a297b25.internal.saturnenterprise.io</a></li>\n",
       "</ul>\n",
       "</td>\n",
       "<td style=\"vertical-align: top; border: 0px solid white\">\n",
       "<h3 style=\"text-align: left;\">Cluster</h3>\n",
       "<ul style=\"text-align: left; list-style:none; margin: 0; padding: 0;\">\n",
       "  <li><b>Workers: </b>6</li>\n",
       "  <li><b>Cores: </b>96</li>\n",
       "  <li><b>Memory: </b>381.00 GB</li>\n",
       "</ul>\n",
       "</td>\n",
       "</tr>\n",
       "</table>"
      ],
      "text/plain": [
       "<Client: 'tcp://192.168.164.131:8786' processes=6 threads=96, memory=381.00 GB>"
      ]
     },
     "execution_count": 8,
     "metadata": {},
     "output_type": "execute_result"
    }
   ],
   "source": [
    "cluster = SaturnCluster(\n",
    "    external_connection=conn,\n",
    "    n_workers=6,\n",
    "    worker_size='g4dn4xlarge',\n",
    "    scheduler_size='2xlarge',\n",
    "    nthreads=16)\n",
    "\n",
    "client = Client(cluster)\n",
    "client.wait_for_workers(6)\n",
    "client"
   ]
  },
  {
   "cell_type": "code",
   "execution_count": 9,
   "metadata": {},
   "outputs": [
    {
     "data": {
      "text/plain": [
       "[<Future: pending, key: dispatch_with_ddp-39f4a3483aa7e592e0889a727c9b2238>,\n",
       " <Future: pending, key: dispatch_with_ddp-053e3aaf058b933070f1b19c25b933f4>,\n",
       " <Future: pending, key: dispatch_with_ddp-e5cbd9518b216afcfd673c508ef68a36>,\n",
       " <Future: pending, key: dispatch_with_ddp-fa6bf77df92741e07aed0ee8b9a7c4a5>,\n",
       " <Future: pending, key: dispatch_with_ddp-8c48bd512f46cb31cd71d5ee41e7ed31>,\n",
       " <Future: pending, key: dispatch_with_ddp-11316f36a5a74f7ed3d7ca4005b38bc6>]"
      ]
     },
     "execution_count": 9,
     "metadata": {},
     "output_type": "execute_result"
    }
   ],
   "source": [
    "### Run Model ###\n",
    "futures = dispatch.run(\n",
    "    client, \n",
    "    cluster_transfer_learn, \n",
    "    **model_params\n",
    "    )\n",
    "\n",
    "futures\n",
    "#futures[0].result()"
   ]
  },
  {
   "cell_type": "code",
   "execution_count": 10,
   "metadata": {},
   "outputs": [
    {
     "ename": "CancelledError",
     "evalue": "dispatch_with_ddp-39f4a3483aa7e592e0889a727c9b2238",
     "output_type": "error",
     "traceback": [
      "\u001b[0;31m---------------------------------------------------------------------------\u001b[0m",
      "\u001b[0;31mCancelledError\u001b[0m                            Traceback (most recent call last)",
      "\u001b[0;32m~/repos/gpu_pytorch/center-deep-learning/fns.py\u001b[0m in \u001b[0;36m<module>\u001b[0;34m\u001b[0m\n\u001b[0;32m----> 1\u001b[0;31m \u001b[0mfutures\u001b[0m\u001b[0;34m[\u001b[0m\u001b[0;36m0\u001b[0m\u001b[0;34m]\u001b[0m\u001b[0;34m.\u001b[0m\u001b[0mresult\u001b[0m\u001b[0;34m(\u001b[0m\u001b[0;34m)\u001b[0m\u001b[0;34m\u001b[0m\u001b[0;34m\u001b[0m\u001b[0m\n\u001b[0m",
      "\u001b[0;32m~/.local/lib/python3.7/site-packages/distributed/client.py\u001b[0m in \u001b[0;36mresult\u001b[0;34m(self, timeout)\u001b[0m\n\u001b[1;32m    225\u001b[0m             \u001b[0;32mraise\u001b[0m \u001b[0mexc\u001b[0m\u001b[0;34m.\u001b[0m\u001b[0mwith_traceback\u001b[0m\u001b[0;34m(\u001b[0m\u001b[0mtb\u001b[0m\u001b[0;34m)\u001b[0m\u001b[0;34m\u001b[0m\u001b[0;34m\u001b[0m\u001b[0m\n\u001b[1;32m    226\u001b[0m         \u001b[0;32melif\u001b[0m \u001b[0mself\u001b[0m\u001b[0;34m.\u001b[0m\u001b[0mstatus\u001b[0m \u001b[0;34m==\u001b[0m \u001b[0;34m\"cancelled\"\u001b[0m\u001b[0;34m:\u001b[0m\u001b[0;34m\u001b[0m\u001b[0;34m\u001b[0m\u001b[0m\n\u001b[0;32m--> 227\u001b[0;31m             \u001b[0;32mraise\u001b[0m \u001b[0mresult\u001b[0m\u001b[0;34m\u001b[0m\u001b[0;34m\u001b[0m\u001b[0m\n\u001b[0m\u001b[1;32m    228\u001b[0m         \u001b[0;32melse\u001b[0m\u001b[0;34m:\u001b[0m\u001b[0;34m\u001b[0m\u001b[0;34m\u001b[0m\u001b[0m\n\u001b[1;32m    229\u001b[0m             \u001b[0;32mreturn\u001b[0m \u001b[0mresult\u001b[0m\u001b[0;34m\u001b[0m\u001b[0;34m\u001b[0m\u001b[0m\n",
      "\u001b[0;31mCancelledError\u001b[0m: dispatch_with_ddp-39f4a3483aa7e592e0889a727c9b2238"
     ]
    },
    {
     "name": "stderr",
     "output_type": "stream",
     "text": [
      "distributed.client - ERROR - Failed to reconnect to scheduler after 10.00 seconds, closing client\n",
      "ERROR:asyncio:_GatheringFuture exception was never retrieved\n",
      "future: <_GatheringFuture finished exception=CancelledError()>\n",
      "concurrent.futures._base.CancelledError\n",
      "ERROR:asyncio:Exception in callback None()\n",
      "handle: <Handle cancelled>\n",
      "Traceback (most recent call last):\n",
      "  File \"/Users/skirmer/.local/lib/python3.7/site-packages/tornado/iostream.py\", line 1391, in _do_ssl_handshake\n",
      "    self.socket.do_handshake()\n",
      "  File \"/Users/skirmer/miniconda3/envs/demo-external/lib/python3.7/ssl.py\", line 1139, in do_handshake\n",
      "    self._sslobj.do_handshake()\n",
      "OSError: [Errno 0] Error\n",
      "\n",
      "During handling of the above exception, another exception occurred:\n",
      "\n",
      "Traceback (most recent call last):\n",
      "  File \"/Users/skirmer/.local/lib/python3.7/site-packages/tornado/iostream.py\", line 696, in _handle_events\n",
      "    self._handle_read()\n",
      "  File \"/Users/skirmer/.local/lib/python3.7/site-packages/tornado/iostream.py\", line 1478, in _handle_read\n",
      "    self._do_ssl_handshake()\n",
      "  File \"/Users/skirmer/.local/lib/python3.7/site-packages/tornado/iostream.py\", line 1429, in _do_ssl_handshake\n",
      "    return self.close(exc_info=err)\n",
      "  File \"/Users/skirmer/.local/lib/python3.7/site-packages/tornado/iostream.py\", line 611, in close\n",
      "    self._signal_closed()\n",
      "  File \"/Users/skirmer/.local/lib/python3.7/site-packages/tornado/iostream.py\", line 641, in _signal_closed\n",
      "    self._ssl_connect_future.exception()\n",
      "concurrent.futures._base.CancelledError\n",
      "\n",
      "During handling of the above exception, another exception occurred:\n",
      "\n",
      "Traceback (most recent call last):\n",
      "  File \"/Users/skirmer/miniconda3/envs/demo-external/lib/python3.7/asyncio/events.py\", line 88, in _run\n",
      "    self._context.run(self._callback, *self._args)\n",
      "  File \"/Users/skirmer/.local/lib/python3.7/site-packages/tornado/platform/asyncio.py\", line 189, in _handle_events\n",
      "    handler_func(fileobj, events)\n",
      "  File \"/Users/skirmer/.local/lib/python3.7/site-packages/tornado/iostream.py\", line 732, in _handle_events\n",
      "    self.close(exc_info=e)\n",
      "  File \"/Users/skirmer/.local/lib/python3.7/site-packages/tornado/iostream.py\", line 611, in close\n",
      "    self._signal_closed()\n",
      "  File \"/Users/skirmer/.local/lib/python3.7/site-packages/tornado/iostream.py\", line 641, in _signal_closed\n",
      "    self._ssl_connect_future.exception()\n",
      "concurrent.futures._base.CancelledError\n"
     ]
    }
   ],
   "source": [
    "futures[0].result()"
   ]
  },
  {
   "cell_type": "code",
   "execution_count": null,
   "metadata": {},
   "outputs": [],
   "source": []
  }
 ],
 "metadata": {
  "kernelspec": {
   "display_name": "demo-ext-wandb-37",
   "language": "python",
   "name": "demo-ext-wandb-37"
  },
  "language_info": {
   "codemirror_mode": {
    "name": "ipython",
    "version": 3
   },
   "file_extension": ".py",
   "mimetype": "text/x-python",
   "name": "python",
   "nbconvert_exporter": "python",
   "pygments_lexer": "ipython3",
   "version": "3.7.10"
  }
 },
 "nbformat": 4,
 "nbformat_minor": 4
}
